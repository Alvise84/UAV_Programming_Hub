{
  "cells": [
    {
      "cell_type": "markdown",
      "id": "af61255c-d86d-4336-8ade-f981f5fcf15a",
      "metadata": {
        "id": "af61255c-d86d-4336-8ade-f981f5fcf15a"
      },
      "source": [
        "# Управление БЛА с помощью Pymavlink"
      ]
    },
    {
      "cell_type": "markdown",
      "id": "ed2e99d2-9da5-4a25-be99-5a72ba4dc3b3",
      "metadata": {
        "id": "ed2e99d2-9da5-4a25-be99-5a72ba4dc3b3"
      },
      "source": [
        "## Описание проекта\n",
        "\n",
        "Этот проект представляет собой пример управления беспилотным летательным аппаратом (БЛА) с использованием библиотеки pymavlink на Python. Проект включает в себя подключение к БЛА, получение телеметрии, выполнение различных команд управления, таких как взлет, посадка, перемещение в заданную точку, изменение высоты, получение информации о состоянии дрона и другие полезные команды."
      ]
    },
    {
      "cell_type": "markdown",
      "id": "e98fc6e3-e2b6-41ed-ad52-37769eae99cd",
      "metadata": {
        "id": "e98fc6e3-e2b6-41ed-ad52-37769eae99cd"
      },
      "source": [
        "1. Импорт необходимых библиотек\n",
        "\n",
        "Импортируем все необходимые библиотеки для работы с БЛА и управления им."
      ]
    },
    {
      "cell_type": "code",
      "execution_count": null,
      "id": "9bc94624-81c1-4479-8adf-26be8831f280",
      "metadata": {
        "id": "9bc94624-81c1-4479-8adf-26be8831f280"
      },
      "outputs": [],
      "source": [
        "from datetime import datetime\n",
        "from pymavlink import mavutil\n",
        "import time\n",
        "import threading"
      ]
    },
    {
      "cell_type": "markdown",
      "id": "6285d9cf-9fad-488d-8c6e-30c8bf82d1a7",
      "metadata": {
        "id": "6285d9cf-9fad-488d-8c6e-30c8bf82d1a7"
      },
      "source": [
        "2. Создание подключения к БЛА\n",
        "\n",
        "Создаем подключение по протоколу MavLink к полетному контроллеру.\n",
        "\n",
        "Для установления связи с БЛА и отправки команд управления.\n",
        "\n",
        "Мы используем **mavutil.mavlink_connection** для создания подключения и ожидаем **heartbeat** сигнал для подтверждения, что соединение установлено."
      ]
    },
    {
      "cell_type": "code",
      "execution_count": null,
      "id": "e777cdc0-87c2-4d33-87d2-0392cf115fdb",
      "metadata": {
        "id": "e777cdc0-87c2-4d33-87d2-0392cf115fdb"
      },
      "outputs": [],
      "source": [
        "def do_connect(connect='tcp:127.0.0.1:14550'):\n",
        "    master = mavutil.mavlink_connection(connect)\n",
        "    master.wait_heartbeat()\n",
        "    return master"
      ]
    },
    {
      "cell_type": "markdown",
      "id": "b037600c-6075-4f90-8389-b1dc700fdcd4",
      "metadata": {
        "id": "b037600c-6075-4f90-8389-b1dc700fdcd4"
      },
      "source": [
        "3. Получение телеметрии\n",
        "\n",
        "Запрашиваем информацию из полетного контроллера и обрабатываем полученные сообщения телеметри\n",
        "\n",
        "Для мониторинга состояния БЛА в реальном времени.\n",
        "\n",
        "Мы используем отдельный поток для получения телеметрии, чтобы не блокировать основной поток выполнения команд.и."
      ]
    },
    {
      "cell_type": "code",
      "execution_count": null,
      "id": "6cdf2915-0f4f-43ad-b799-ae4aef8a4965",
      "metadata": {
        "id": "6cdf2915-0f4f-43ad-b799-ae4aef8a4965"
      },
      "outputs": [],
      "source": [
        "def get_telemetry():\n",
        "    while True:\n",
        "        try:\n",
        "            msg = master.recv_match(blocking=True, timeout=1)\n",
        "            if msg is not None:\n",
        "                process_telemetry(msg)\n",
        "        except Exception as e:\n",
        "            print(f'Потеряно подключение телеметрии: {e}')\n",
        "\n",
        "def process_telemetry(msg):\n",
        "    if msg.get_type() == 'GLOBAL_POSITION_INT':\n",
        "        altitude = round(msg.relative_alt / 1000, 1)\n",
        "        gps_altitude = round(msg.alt / 1000, 1)\n",
        "        longitude = msg.lon / 1e7\n",
        "        latitude = msg.lat / 1e7\n",
        "        print(get_time())\n",
        "        print(f'Высота: {altitude}м', f'Высота (GPS): {gps_altitude}м', f'Lon: {longitude}', f'Lat: {latitude}', sep='\\n')\n",
        "        print()\n",
        "\n",
        "def get_time():\n",
        "    now = datetime.now()\n",
        "    return f'{now.hour:02d}:{now.minute:02d}:{now.second:02d}'"
      ]
    },
    {
      "cell_type": "markdown",
      "id": "9f59e0d4-7599-4a1d-88c9-733dd7e3fd47",
      "metadata": {
        "id": "9f59e0d4-7599-4a1d-88c9-733dd7e3fd47"
      },
      "source": [
        "4. Подключение к БЛА и запуск потока телеметрии\n",
        "\n",
        "Подключаемся к БЛА и запускаем поток для получения телеметри\n",
        "\n",
        "Для начала работы с БЛА и мониторинга его состояния.\n",
        "\n",
        "Мы создаем подключение и запускаем поток телеметрии, чтобы начать получать данные о состоянии БЛА.и."
      ]
    },
    {
      "cell_type": "code",
      "execution_count": null,
      "id": "8635fdd5-0f9f-4ab9-a1e0-375a1bd85463",
      "metadata": {
        "id": "8635fdd5-0f9f-4ab9-a1e0-375a1bd85463"
      },
      "outputs": [],
      "source": [
        "master = do_connect()\n",
        "telemetry_thread = threading.Thread(target=get_telemetry)\n",
        "telemetry_thread.daemon = True\n",
        "telemetry_thread.start()"
      ]
    },
    {
      "cell_type": "markdown",
      "id": "b1d531cb-5e70-48b2-80d9-820663c19de8",
      "metadata": {
        "id": "b1d531cb-5e70-48b2-80d9-820663c19de8"
      },
      "source": [
        "5. Реализация цикла с командами управления БЛА\n",
        "\n",
        "Реализуем цикл, который принимает команды от пользователя и выполняет их.\n",
        "\n",
        "Для интерактивного управления БЛА через командную строку.\n",
        "\n",
        "Мы используем цикл **while True**, который ждет ввода команды от пользователя и выполняет соответствующую функцию."
      ]
    },
    {
      "cell_type": "code",
      "execution_count": null,
      "id": "e9b71dfc-eeda-4e1b-83c1-fe52aa342b2f",
      "metadata": {
        "id": "e9b71dfc-eeda-4e1b-83c1-fe52aa342b2f"
      },
      "outputs": [],
      "source": [
        "import drone_commands as cmd\n",
        "\n",
        "while True:\n",
        "    command = input('введите команду: ')\n",
        "\n",
        "    if command == 'exit':\n",
        "        break\n",
        "    elif command == 'arm':\n",
        "        cmd.arm(master)\n",
        "    elif command == 'takeoff':\n",
        "        cmd.takeoff(master, 10)\n",
        "    elif command == 'land':\n",
        "        cmd.land(master)\n",
        "    elif command.startswith('goto'):\n",
        "        try:\n",
        "            _, lat, lon, alt = command.split()\n",
        "            cmd.goto(master, float(lat), float(lon), float(alt))\n",
        "        except ValueError:\n",
        "            print(\"Неверный формат команды. Используйте: goto <lat> <lon> <alt>\")\n",
        "    elif command.startswith('change_altitude'):\n",
        "        try:\n",
        "            _, alt = command.split()\n",
        "            cmd.change_altitude(master, float(alt))\n",
        "        except ValueError:\n",
        "            print(\"Неверный формат команды. Используйте: change_altitude <alt>\")\n",
        "    elif command == 'get_status':\n",
        "        cmd.get_status(master)\n",
        "    elif command == 'get_battery_info':\n",
        "        cmd.get_battery_info(master)\n",
        "    elif command == 'get_speed_info':\n",
        "        cmd.get_speed_info(master)\n",
        "    elif command == 'get_heading_info':\n",
        "        cmd.get_heading_info(master)\n",
        "    elif command == 'get_gps_info':\n",
        "        cmd.get_gps_info(master)\n",
        "    elif command == 'get_flight_mode':\n",
        "        cmd.get_flight_mode(master)\n",
        "    elif command.startswith('set_speed'):\n",
        "        try:\n",
        "            _, speed = command.split()\n",
        "            cmd.set_speed(master, float(speed))\n",
        "        except ValueError:\n",
        "            print(\"Неверный формат команды. Используйте: set_speed <speed>\")\n",
        "    elif command.startswith('set_heading'):\n",
        "        try:\n",
        "            _, heading = command.split()\n",
        "            cmd.set_heading(master, float(heading))\n",
        "        except ValueError:\n",
        "            print(\"Неверный формат команды. Используйте: set_heading <heading>\")\n",
        "    elif command == 'return_to_launch':\n",
        "        cmd.return_to_launch(master)\n",
        "    elif command == 'pause_flight':\n",
        "        cmd.pause_flight(master)\n",
        "    elif command == 'continue_flight':\n",
        "        cmd.continue_flight(master)\n",
        "    else:\n",
        "        print('Неизвестная команда!')\n",
        "        continue\n",
        "    print(\"Выполняю команду -\", command)"
      ]
    },
    {
      "cell_type": "markdown",
      "id": "ce38c4e2-d5e5-4c5e-b190-80a5964a53b6",
      "metadata": {
        "id": "ce38c4e2-d5e5-4c5e-b190-80a5964a53b6"
      },
      "source": [
        "6. Реализация команд управления БЛА\n",
        "\n",
        "Команда включения моторов **arm**\n",
        "\n",
        "Для подготовки дрона к полету.\n",
        "\n",
        "Мы отправляем команду **MAV_CMD_COMPONENT_ARM_DISARM** с параметром **1** для включения моторов.)"
      ]
    },
    {
      "cell_type": "code",
      "execution_count": null,
      "id": "54a6c7bd-00ec-41bc-8f51-82836c4335dd",
      "metadata": {
        "id": "54a6c7bd-00ec-41bc-8f51-82836c4335dd"
      },
      "outputs": [],
      "source": [
        "def arm(master):\n",
        "    master.mav.command_long_send(\n",
        "        master.target_system,\n",
        "        master.target_component,\n",
        "        mavutil.mavlink.MAV_CMD_COMPONENT_ARM_DISARM,\n",
        "        0,\n",
        "        1, 0, 0, 0, 0, 0, 0)\n",
        "    ack_msg = master.recv_match(type='COMMAND_ACK', blocking=True)\n",
        "    if ack_msg.result == mavutil.mavlink.MAV_RESULT_ACCEPTED:\n",
        "        print(\"Дрон успешно заармирован\")\n",
        "    else:\n",
        "        print(\"Ошибка при армировании дрона\")"
      ]
    },
    {
      "cell_type": "markdown",
      "id": "1266f7fb-56d2-4537-aa5f-37133bfabf95",
      "metadata": {
        "id": "1266f7fb-56d2-4537-aa5f-37133bfabf95"
      },
      "source": [
        "Команда взлета **takeoff**\n",
        "\n",
        "Запускает взлет дрона на заданную высоту.\n",
        "\n",
        "Мы устанавливаем режим **GUIDED** и отправляем команду **MAV_CMD_NAV_TAKEOFF** с указанием высоты взлета."
      ]
    },
    {
      "cell_type": "code",
      "execution_count": null,
      "id": "d3b6145e-fd33-4167-84a1-4eb0b01e1263",
      "metadata": {
        "id": "d3b6145e-fd33-4167-84a1-4eb0b01e1263"
      },
      "outputs": [],
      "source": [
        "def takeoff(master, alt):\n",
        "    master.set_mode_guided()\n",
        "    master.mav.command_long_send(\n",
        "        master.target_system,\n",
        "        master.target_component,\n",
        "        mavutil.mavlink.MAV_CMD_NAV_TAKEOFF,\n",
        "        0,\n",
        "        0, 0, 0, 0, 0, 0, alt)\n",
        "    ack_msg = master.recv_match(type='COMMAND_ACK', blocking=True)\n",
        "    if ack_msg.result == mavutil.mavlink.MAV_RESULT_ACCEPTED:\n",
        "        print(\"Дрон взлетает\")\n",
        "    else:\n",
        "        print(\"Ошибка при взлете\")"
      ]
    },
    {
      "cell_type": "markdown",
      "id": "2afc169e-0029-4824-a600-9dfe47475115",
      "metadata": {
        "id": "2afc169e-0029-4824-a600-9dfe47475115"
      },
      "source": [
        "Команда посадки **land**\n",
        "\n",
        "Для завершения полета и безопасной посадки дрона.\n",
        "\n",
        "Мы устанавливаем режим **LAND** и ожидаем подтверждения выполнения команды."
      ]
    },
    {
      "cell_type": "code",
      "execution_count": null,
      "id": "436c8a1e-74c8-4b8c-b711-8335447a4fce",
      "metadata": {
        "id": "436c8a1e-74c8-4b8c-b711-8335447a4fce"
      },
      "outputs": [],
      "source": [
        "def land(master):\n",
        "    master.set_mode_land()\n",
        "    ack_msg = master.recv_match(type='COMMAND_ACK', blocking=True)\n",
        "    if ack_msg.result == mavutil.mavlink.MAV_RESULT_ACCEPTED:\n",
        "        print(\"Дрон начинает посадку\")\n",
        "    else:\n",
        "        print(\"Ошибка при посадке\")"
      ]
    },
    {
      "cell_type": "markdown",
      "id": "3d09d7c3-e3dd-430c-8f38-7259457465df",
      "metadata": {
        "id": "3d09d7c3-e3dd-430c-8f38-7259457465df"
      },
      "source": [
        "Команда перемещения в заданную точку **goto**\n",
        "\n",
        "Перемещает дрон в заданную точку с указанными координатами и высотой.\n",
        "\n",
        "Мы отправляем команду **MAV_CMD_NAV_WAYPOINT** с указанием координат и высоты."
      ]
    },
    {
      "cell_type": "code",
      "execution_count": null,
      "id": "41b879c1-9f94-4217-96a7-04581040215e",
      "metadata": {
        "id": "41b879c1-9f94-4217-96a7-04581040215e"
      },
      "outputs": [],
      "source": [
        "def goto(master, lat, lon, alt):\n",
        "    master.mav.mission_item_send(\n",
        "        master.target_system,\n",
        "        master.target_component,\n",
        "        0,\n",
        "        mavutil.mavlink.MAV_FRAME_GLOBAL_RELATIVE_ALT,\n",
        "        mavutil.mavlink.MAV_CMD_NAV_WAYPOINT,\n",
        "        2, 0, 0, 0, 0, 0,\n",
        "        lat, lon, alt)\n",
        "    ack_msg = master.recv_match(type='COMMAND_ACK', blocking=True)\n",
        "    if ack_msg.result == mavutil.mavlink.MAV_RESULT_ACCEPTED:\n",
        "        print(f\"Дрон летит к точке: Lat {lat}, Lon {lon}, Alt {alt}\")\n",
        "    else:\n",
        "        print(\"Ошибка при перемещении к точке\")"
      ]
    },
    {
      "cell_type": "markdown",
      "id": "203d9503-842d-4b09-a738-433ae4a8986f",
      "metadata": {
        "id": "203d9503-842d-4b09-a738-433ae4a8986f"
      },
      "source": [
        "Команда изменения высоты **change_altitude**\n",
        "\n",
        "Для корректировки высоты полета дрона.\n",
        "\n",
        "Мы отправляем команду **MAV_CMD_DO_CHANGE_ALTITUDE** с указанием новой высоты."
      ]
    },
    {
      "cell_type": "code",
      "execution_count": null,
      "id": "e8f32ae6-6cbf-419a-80f3-c9c8b20655cf",
      "metadata": {
        "id": "e8f32ae6-6cbf-419a-80f3-c9c8b20655cf"
      },
      "outputs": [],
      "source": [
        "def change_altitude(master, alt):\n",
        "    master.mav.command_long_send(\n",
        "        master.target_system,\n",
        "        master.target_component,\n",
        "        mavutil.mavlink.MAV_CMD_DO_CHANGE_ALTITUDE,\n",
        "        0,\n",
        "        alt, 0, 0, 0, 0, 0, 0)\n",
        "    ack_msg = master.recv_match(type='COMMAND_ACK', blocking=True)\n",
        "    if ack_msg.result == mavutil.mavlink.MAV_RESULT_ACCEPTED:\n",
        "        print(f\"Дрон меняет высоту на {alt}м\")\n",
        "    else:\n",
        "        print(\"Ошибка при изменении высоты\")"
      ]
    },
    {
      "cell_type": "markdown",
      "id": "4964e63b-d56d-4ab4-9dac-132ef81d1d3c",
      "metadata": {
        "id": "4964e63b-d56d-4ab4-9dac-132ef81d1d3c"
      },
      "source": [
        "Команда получения состояния дрона **get_status**\n",
        "\n",
        "Для мониторинга состояния дрона в реальном времени.\n",
        "\n",
        "Мы запрашиваем сообщение **SYS_STATUS** для получения информации о состоянии дрона."
      ]
    },
    {
      "cell_type": "code",
      "execution_count": null,
      "id": "7f90a268-777b-4f05-a756-59a8477ae956",
      "metadata": {
        "id": "7f90a268-777b-4f05-a756-59a8477ae956"
      },
      "outputs": [],
      "source": [
        "def get_status(master):\n",
        "    master.mav.command_long_send(\n",
        "        master.target_system,\n",
        "        master.target_component,\n",
        "        mavutil.mavlink.MAV_CMD_REQUEST_MESSAGE,\n",
        "        0,\n",
        "        mavutil.mavlink.MAVLINK_MSG_ID_SYS_STATUS, 0, 0, 0, 0, 0, 0)\n",
        "    msg = master.recv_match(type='SYS_STATUS', blocking=True)\n",
        "    if msg:\n",
        "        print(f\"Состояние дрона: {msg}\")\n",
        "    else:\n",
        "        print(\"Не удалось получить состояние дрона\")"
      ]
    },
    {
      "cell_type": "markdown",
      "id": "a523d674-b31f-4387-a85c-3eb28dd77a2c",
      "metadata": {
        "id": "a523d674-b31f-4387-a85c-3eb28dd77a2c"
      },
      "source": [
        "Команда получения информации о батарее **get_battery_info**\n",
        "\n",
        "Для мониторинга заряда батареи дрона.\n",
        "\n",
        "Мы запрашиваем сообщение **BATTERY_STATUS** для получения информации о батарее."
      ]
    },
    {
      "cell_type": "code",
      "execution_count": null,
      "id": "f041b592-fc7d-4547-b55b-72f35f2e5c7b",
      "metadata": {
        "id": "f041b592-fc7d-4547-b55b-72f35f2e5c7b"
      },
      "outputs": [],
      "source": [
        "def get_battery_info(master):\n",
        "    master.mav.command_long_send(\n",
        "        master.target_system,\n",
        "        master.target_component,\n",
        "        mavutil.mavlink.MAV_CMD_REQUEST_MESSAGE,\n",
        "        0,\n",
        "        mavutil.mavlink.MAVLINK_MSG_ID_BATTERY_STATUS, 0, 0, 0, 0, 0, 0)\n",
        "    msg = master.recv_match(type='BATTERY_STATUS', blocking=True)\n",
        "    if msg:\n",
        "        print(f\"Информация о батарее: {msg}\")\n",
        "    else:\n",
        "        print(\"Не удалось получить информацию о батарее\")"
      ]
    },
    {
      "cell_type": "markdown",
      "id": "d9adae99-bb36-4c86-87ed-75a27f6cf443",
      "metadata": {
        "id": "d9adae99-bb36-4c86-87ed-75a27f6cf443"
      },
      "source": [
        "Команда получения информации о скорости **get_speed_info**\n",
        "\n",
        "Для мониторинга скорости полета дрона.\n",
        "\n",
        "Мы запрашиваем сообщение **VFR_HUD** для получения информации о скорости."
      ]
    },
    {
      "cell_type": "code",
      "execution_count": null,
      "id": "65bae6cb-4c04-4fcd-bdf0-5b4bda663786",
      "metadata": {
        "id": "65bae6cb-4c04-4fcd-bdf0-5b4bda663786"
      },
      "outputs": [],
      "source": [
        "def get_speed_info(master):\n",
        "    master.mav.command_long_send(\n",
        "        master.target_system,\n",
        "        master.target_component,\n",
        "        mavutil.mavlink.MAV_CMD_REQUEST_MESSAGE,\n",
        "        0,\n",
        "        mavutil.mavlink.MAVLINK_MSG_ID_VFR_HUD, 0, 0, 0, 0, 0, 0)\n",
        "    msg = master.recv_match(type='VFR_HUD', blocking=True)\n",
        "    if msg:\n",
        "        print(f\"Информация о скорости: {msg}\")\n",
        "    else:\n",
        "        print(\"Не удалось получить информацию о скорости\")"
      ]
    },
    {
      "cell_type": "markdown",
      "id": "5f950ba3-4fc3-4533-822c-3f2ccf3b01e8",
      "metadata": {
        "id": "5f950ba3-4fc3-4533-822c-3f2ccf3b01e8"
      },
      "source": [
        "Команда получения информации о курсе **get_heading_info**\n",
        "\n",
        "Получает информацию о текущем курсе дрона.\n",
        "\n",
        "Мы запрашиваем сообщение **ATTITUDE** для получения информации о курсе."
      ]
    },
    {
      "cell_type": "code",
      "execution_count": null,
      "id": "7310680c-316d-4331-bd70-5d7ea741274a",
      "metadata": {
        "id": "7310680c-316d-4331-bd70-5d7ea741274a"
      },
      "outputs": [],
      "source": [
        "def get_heading_info(master):\n",
        "    master.mav.command_long_send(\n",
        "        master.target_system,\n",
        "        master.target_component,\n",
        "        mavutil.mavlink.MAV_CMD_REQUEST_MESSAGE,\n",
        "        0,\n",
        "        mavutil.mavlink.MAVLINK_MSG_ID_ATTITUDE, 0, 0, 0, 0, 0, 0)\n",
        "    msg = master.recv_match(type='ATTITUDE', blocking=True)\n",
        "    if msg:\n",
        "        print(f\"Информация о курсе: {msg}\")\n",
        "    else:\n",
        "        print(\"Не удалось получить информацию о курсе\")"
      ]
    },
    {
      "cell_type": "markdown",
      "id": "7a0edd3b-4d81-41c2-8b17-754180311d40",
      "metadata": {
        "id": "7a0edd3b-4d81-41c2-8b17-754180311d40"
      },
      "source": [
        "Команда получения информации о состоянии GPS **get_gps_info**\n",
        "\n",
        "Получает информацию о состоянии GPS, включая количество видимых спутников.\n",
        "\n",
        "Мы запрашиваем сообщение **GPS_RAW_INT** для получения информации о GPS."
      ]
    },
    {
      "cell_type": "code",
      "execution_count": null,
      "id": "2b27e32f-05c4-43ad-970c-b6052fa9847f",
      "metadata": {
        "id": "2b27e32f-05c4-43ad-970c-b6052fa9847f"
      },
      "outputs": [],
      "source": [
        "def get_gps_info(master):\n",
        "    master.mav.command_long_send(\n",
        "        master.target_system,\n",
        "        master.target_component,\n",
        "        mavutil.mavlink.MAV_CMD_REQUEST_MESSAGE,\n",
        "        0,\n",
        "        mavutil.mavlink.MAVLINK_MSG_ID_GPS_RAW_INT, 0, 0, 0, 0, 0, 0)\n",
        "    msg = master.recv_match(type='GPS_RAW_INT', blocking=True)\n",
        "    if msg:\n",
        "        print(f\"Информация о GPS: {msg}\")\n",
        "    else:\n",
        "        print(\"Не удалось получить информацию о GPS\")"
      ]
    },
    {
      "cell_type": "markdown",
      "id": "e4686efd-795b-4feb-8d31-22f340f5bd86",
      "metadata": {
        "id": "e4686efd-795b-4feb-8d31-22f340f5bd86"
      },
      "source": [
        "Команда получения текущего режима полета **get_flight_mode**\n",
        "\n",
        "Для мониторинга текущего режима полета дрона.\n",
        "\n",
        "Мы запрашиваем сообщение **HEARTBEAT** для получения информации о режиме полета."
      ]
    },
    {
      "cell_type": "code",
      "execution_count": null,
      "id": "c5ca6596-b265-44f3-a4e6-3598696d3696",
      "metadata": {
        "id": "c5ca6596-b265-44f3-a4e6-3598696d3696"
      },
      "outputs": [],
      "source": [
        "def get_flight_mode(master):\n",
        "    master.mav.command_long_send(\n",
        "        master.target_system,\n",
        "        master.target_component,\n",
        "        mavutil.mavlink.MAV_CMD_REQUEST_MESSAGE,\n",
        "        0,\n",
        "        mavutil.mavlink.MAVLINK_MSG_ID_HEARTBEAT, 0, 0, 0, 0, 0, 0)\n",
        "    msg = master.recv_match(type='HEARTBEAT', blocking=True)\n",
        "    if msg:\n",
        "        print(f\"Текущий режим полета: {msg.custom_mode}\")\n",
        "    else:\n",
        "        print(\"Не удалось получить информацию о режиме полета\")"
      ]
    },
    {
      "cell_type": "markdown",
      "id": "59596c78-83d3-4656-9465-29b5a8e0c6dc",
      "metadata": {
        "id": "59596c78-83d3-4656-9465-29b5a8e0c6dc"
      },
      "source": [
        "Команда установки скорости полета **set_speed**\n",
        "\n",
        "Мы отправляем команду **MAV_CMD_DO_CHANGE_SPEED** с указанием новой скорости."
      ]
    },
    {
      "cell_type": "code",
      "execution_count": null,
      "id": "8b62d437-059f-4b39-b4a6-5e727ac4a9f5",
      "metadata": {
        "id": "8b62d437-059f-4b39-b4a6-5e727ac4a9f5"
      },
      "outputs": [],
      "source": [
        "def set_speed(master, speed):\n",
        "    master.mav.command_long_send(\n",
        "        master.target_system,\n",
        "        master.target_component,\n",
        "        mavutil.mavlink.MAV_CMD_DO_CHANGE_SPEED,\n",
        "        0,\n",
        "        0, speed, -1, 0, 0, 0, 0)\n",
        "    ack_msg = master.recv_match(type='COMMAND_ACK', blocking=True)\n",
        "    if ack_msg.result == mavutil.mavlink.MAV_RESULT_ACCEPTED:\n",
        "        print(f\"Скорость полета установлена на {speed} м/с\")\n",
        "    else:\n",
        "        print(\"Ошибка при установке скорости полета\")"
      ]
    },
    {
      "cell_type": "markdown",
      "id": "49486d51-c83a-48fd-b40e-a55df6d07751",
      "metadata": {
        "id": "49486d51-c83a-48fd-b40e-a55df6d07751"
      },
      "source": [
        "Команда установки курса **set_heading**\n",
        "\n",
        "Для управления направлением полета дрона.\n",
        "\n",
        "Мы отправляем команду MAV_CMD_CONDITION_YAW с указанием нового курса."
      ]
    },
    {
      "cell_type": "code",
      "execution_count": null,
      "id": "84559098-9ac5-4fa5-9331-b2765a61b455",
      "metadata": {
        "id": "84559098-9ac5-4fa5-9331-b2765a61b455"
      },
      "outputs": [],
      "source": [
        "def set_heading(master, heading):\n",
        "    master.mav.command_long_send(\n",
        "        master.target_system,\n",
        "        master.target_component,\n",
        "        mavutil.mavlink.MAV_CMD_CONDITION_YAW,\n",
        "        0,\n",
        "        heading, 0, 0, 0, 0, 0, 0)\n",
        "    ack_msg = master.recv_match(type='COMMAND_ACK', blocking=True)\n",
        "    if ack_msg.result == mavutil.mavlink.MAV_RESULT_ACCEPTED:\n",
        "        print(f\"Курс установлен на {heading} градусов\")\n",
        "    else:\n",
        "        print(\"Ошибка при установке курса\")"
      ]
    },
    {
      "cell_type": "markdown",
      "id": "468bf27b-54e4-4288-84cb-8dffc853f56a",
      "metadata": {
        "id": "468bf27b-54e4-4288-84cb-8dffc853f56a"
      },
      "source": [
        "Команда возврата на базу **return_to_launch**\n",
        "\n",
        "Для безопасного возврата дрона на точку взлета.\n",
        "\n",
        "Мы устанавливаем режим **RTL** (Return to Launch) и ожидаем подтверждения выполнения команды."
      ]
    },
    {
      "cell_type": "code",
      "execution_count": null,
      "id": "11ac0b1c-8b4b-4440-8dc7-1d457fd395e8",
      "metadata": {
        "id": "11ac0b1c-8b4b-4440-8dc7-1d457fd395e8"
      },
      "outputs": [],
      "source": [
        "def return_to_launch(master):\n",
        "    master.set_mode_rtl()\n",
        "    ack_msg = master.recv_match(type='COMMAND_ACK', blocking=True)\n",
        "    if ack_msg.result == mavutil.mavlink.MAV_RESULT_ACCEPTED:\n",
        "        print(\"Дрон возвращается на базу\")\n",
        "    else:\n",
        "        print(\"Ошибка при возврате на базу\")"
      ]
    },
    {
      "cell_type": "markdown",
      "id": "3af944fd-2ae1-49b8-aa80-67d347881e83",
      "metadata": {
        "id": "3af944fd-2ae1-49b8-aa80-67d347881e83"
      },
      "source": [
        "Команда паузы в полете **pause_flight**\n",
        "\n",
        "Для временной остановки полета дрона.\n",
        "\n",
        "Мы устанавливаем режим **HOLD** (пауза) и ожидаем подтверждения выполнения команды."
      ]
    },
    {
      "cell_type": "code",
      "execution_count": null,
      "id": "eafe7932-5602-4f43-adfb-5b9cf97fd425",
      "metadata": {
        "id": "eafe7932-5602-4f43-adfb-5b9cf97fd425"
      },
      "outputs": [],
      "source": [
        "def pause_flight(master):\n",
        "    master.set_mode_hold()\n",
        "    ack_msg = master.recv_match(type='COMMAND_ACK', blocking=True)\n",
        "    if ack_msg.result == mavutil.mavlink.MAV_RESULT_ACCEPTED:\n",
        "        print(\"Полет приостановлен\")\n",
        "    else:\n",
        "        print(\"Ошибка при приостановке полета\")"
      ]
    },
    {
      "cell_type": "markdown",
      "id": "7ec7700f-7255-4721-ae49-1e94bc1f7049",
      "metadata": {
        "id": "7ec7700f-7255-4721-ae49-1e94bc1f7049"
      },
      "source": [
        "Команда продолжения полета после паузы **continue_flight**\n",
        "\n",
        "Для возобновления полета после временной остановки.\n",
        "\n",
        "Мы устанавливаем режим **GUIDED** и ожидаем подтверждения выполнения команды."
      ]
    },
    {
      "cell_type": "code",
      "execution_count": null,
      "id": "22b25673-4d72-4503-8894-8b3547dd705c",
      "metadata": {
        "id": "22b25673-4d72-4503-8894-8b3547dd705c"
      },
      "outputs": [],
      "source": [
        "def continue_flight(master):\n",
        "    master.set_mode_guided()\n",
        "    ack_msg = master.recv_match(type='COMMAND_ACK', blocking=True)\n",
        "    if ack_msg.result == mavutil.mavlink.MAV_RESULT_ACCEPTED:\n",
        "        print(\"Полет возобновлен\")\n",
        "    else:\n",
        "        print(\"Ошибка при возобновлении полета\")"
      ]
    },
    {
      "cell_type": "markdown",
      "id": "bd6bf5b9-d588-4122-add7-52e760f403f0",
      "metadata": {
        "id": "bd6bf5b9-d588-4122-add7-52e760f403f0"
      },
      "source": [
        "7. Завершение работы\n",
        "\n",
        "Для корректного завершения работы и освобождения ресурсов.\n",
        "\n",
        "Мы используем команду **break** для выхода из цикла и завершения работы программы."
      ]
    },
    {
      "cell_type": "code",
      "execution_count": null,
      "id": "94d9ef8d-5d1d-43fc-9933-3a667244c785",
      "metadata": {
        "id": "94d9ef8d-5d1d-43fc-9933-3a667244c785"
      },
      "outputs": [],
      "source": []
    }
  ],
  "metadata": {
    "kernelspec": {
      "display_name": "anaconda-ai-2024.04-py310",
      "language": "python",
      "name": "conda-env-anaconda-ai-2024.04-py310-py"
    },
    "language_info": {
      "codemirror_mode": {
        "name": "ipython",
        "version": 3
      },
      "file_extension": ".py",
      "mimetype": "text/x-python",
      "name": "python",
      "nbconvert_exporter": "python",
      "pygments_lexer": "ipython3",
      "version": "3.10.13"
    },
    "colab": {
      "provenance": []
    }
  },
  "nbformat": 4,
  "nbformat_minor": 5
}
